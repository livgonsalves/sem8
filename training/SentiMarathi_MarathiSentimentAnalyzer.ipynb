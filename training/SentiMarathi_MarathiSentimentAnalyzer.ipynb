{
 "cells": [
  {
   "cell_type": "markdown",
   "metadata": {
    "id": "OZyEz0UuIl77"
   },
   "source": [
    "# Importing Required Libraries"
   ]
  },
  {
   "cell_type": "code",
   "execution_count": 1,
   "metadata": {
    "id": "DURxxPCwH3UZ"
   },
   "outputs": [],
   "source": [
    "import numpy as np\n",
    "import pandas as pd\n",
    "import re\n",
    "import nltk\n",
    "from nltk.corpus import stopwords\n",
    "import seaborn as sns\n",
    "import pickle\n",
    "from sklearn.datasets import load_files\n",
    "from sklearn.feature_extraction.text import TfidfVectorizer \n",
    "from sklearn.feature_extraction.text import TfidfTransformer\n",
    "from sklearn.feature_extraction.text import CountVectorizer\n",
    "from sklearn.metrics import classification_report, confusion_matrix, accuracy_score\n",
    "from sklearn.model_selection import train_test_split \n",
    "from sklearn.ensemble import RandomForestClassifier\n",
    "from sklearn.neighbors import  KNeighborsClassifier\n",
    "from sklearn.naive_bayes import  GaussianNB\n",
    "from sklearn.tree import DecisionTreeClassifier\n",
    "from sklearn.svm import SVC\n",
    "from sklearn.linear_model import LogisticRegression\n",
    "\n",
    "%matplotlib inline"
   ]
  },
  {
   "cell_type": "markdown",
   "metadata": {
    "id": "olwl4GsvItvp"
   },
   "source": [
    "## Downloading Nltk packages"
   ]
  },
  {
   "cell_type": "code",
   "execution_count": 2,
   "metadata": {
    "colab": {
     "base_uri": "https://localhost:8080/"
    },
    "id": "FtHeCSeyIvn4",
    "outputId": "c763bdcb-98fa-4254-f9a7-9533eccda6dc"
   },
   "outputs": [
    {
     "name": "stderr",
     "output_type": "stream",
     "text": [
      "[nltk_data] Downloading package stopwords to\n",
      "[nltk_data]     C:\\Users\\My1\\AppData\\Roaming\\nltk_data...\n",
      "[nltk_data]   Unzipping corpora\\stopwords.zip.\n",
      "[nltk_data] Downloading package punkt to\n",
      "[nltk_data]     C:\\Users\\My1\\AppData\\Roaming\\nltk_data...\n",
      "[nltk_data]   Package punkt is already up-to-date!\n"
     ]
    }
   ],
   "source": [
    "nltk.download('stopwords')\n",
    "nltk.download('punkt')\n",
    "stop = stopwords.words('english-new')"
   ]
  },
  {
   "cell_type": "markdown",
   "metadata": {
    "id": "7uo30MrpI64h"
   },
   "source": [
    "# Importing Data and Visualizing"
   ]
  },
  {
   "cell_type": "code",
   "execution_count": 3,
   "metadata": {
    "colab": {
     "base_uri": "https://localhost:8080/",
     "height": 204
    },
    "id": "p0QCZweTIwtb",
    "outputId": "04b308d5-0fd1-4946-9a8c-d6fb91b5e458",
    "scrolled": true
   },
   "outputs": [
    {
     "data": {
      "text/html": [
       "<div>\n",
       "<style scoped>\n",
       "    .dataframe tbody tr th:only-of-type {\n",
       "        vertical-align: middle;\n",
       "    }\n",
       "\n",
       "    .dataframe tbody tr th {\n",
       "        vertical-align: top;\n",
       "    }\n",
       "\n",
       "    .dataframe thead th {\n",
       "        text-align: right;\n",
       "    }\n",
       "</style>\n",
       "<table border=\"1\" class=\"dataframe\">\n",
       "  <thead>\n",
       "    <tr style=\"text-align: right;\">\n",
       "      <th></th>\n",
       "      <th>comment</th>\n",
       "      <th>rating</th>\n",
       "    </tr>\n",
       "  </thead>\n",
       "  <tbody>\n",
       "    <tr>\n",
       "      <th>0</th>\n",
       "      <td>तो पळाला हसत हसत</td>\n",
       "      <td>1</td>\n",
       "    </tr>\n",
       "    <tr>\n",
       "      <th>1</th>\n",
       "      <td>मी पडलो मला लागलं</td>\n",
       "      <td>-1</td>\n",
       "    </tr>\n",
       "    <tr>\n",
       "      <th>2</th>\n",
       "      <td>मला माहित आहे</td>\n",
       "      <td>0</td>\n",
       "    </tr>\n",
       "    <tr>\n",
       "      <th>3</th>\n",
       "      <td>मी हरलो</td>\n",
       "      <td>-1</td>\n",
       "    </tr>\n",
       "    <tr>\n",
       "      <th>4</th>\n",
       "      <td>मी काम करतोय</td>\n",
       "      <td>0</td>\n",
       "    </tr>\n",
       "  </tbody>\n",
       "</table>\n",
       "</div>"
      ],
      "text/plain": [
       "             comment  rating\n",
       "0   तो पळाला हसत हसत       1\n",
       "1  मी पडलो मला लागलं      -1\n",
       "2      मला माहित आहे       0\n",
       "3            मी हरलो      -1\n",
       "4       मी काम करतोय       0"
      ]
     },
     "execution_count": 3,
     "metadata": {},
     "output_type": "execute_result"
    }
   ],
   "source": [
    "main = pd.read_csv(\"../data/marathi_data.csv\")\n",
    "main.head()"
   ]
  },
  {
   "cell_type": "code",
   "execution_count": 4,
   "metadata": {
    "colab": {
     "base_uri": "https://localhost:8080/",
     "height": 296
    },
    "id": "QCOohMxnIwmq",
    "outputId": "2f73f0a0-30cf-465a-8017-535f33ad6318",
    "scrolled": true
   },
   "outputs": [
    {
     "data": {
      "text/plain": [
       "<matplotlib.axes._subplots.AxesSubplot at 0x26956d74a58>"
      ]
     },
     "execution_count": 4,
     "metadata": {},
     "output_type": "execute_result"
    },
    {
     "data": {
      "image/png": "[encoded data removed]",
      "text/plain": [
       "<Figure size 432x288 with 1 Axes>"
      ]
     },
     "metadata": {
      "needs_background": "light"
     },
     "output_type": "display_data"
    }
   ],
   "source": [
    "sns.countplot(x='rating', data=main)"
   ]
  },
  {
   "cell_type": "markdown",
   "metadata": {
    "id": "zSC_qLRKJKnb"
   },
   "source": [
    "\n",
    "# Preprocessing Data"
   ]
  },
  {
   "cell_type": "markdown",
   "metadata": {
    "id": "7K10G63uSqrw"
   },
   "source": [
    "We will convert marathi text to English and then train models on that. Which is done in the file \"marathi_data_translated.csv\""
   ]
  },
  {
   "cell_type": "code",
   "execution_count": 5,
   "metadata": {},
   "outputs": [
    {
     "data": {
      "text/html": [
       "<div>\n",
       "<style scoped>\n",
       "    .dataframe tbody tr th:only-of-type {\n",
       "        vertical-align: middle;\n",
       "    }\n",
       "\n",
       "    .dataframe tbody tr th {\n",
       "        vertical-align: top;\n",
       "    }\n",
       "\n",
       "    .dataframe thead th {\n",
       "        text-align: right;\n",
       "    }\n",
       "</style>\n",
       "<table border=\"1\" class=\"dataframe\">\n",
       "  <thead>\n",
       "    <tr style=\"text-align: right;\">\n",
       "      <th></th>\n",
       "      <th>Unnamed: 0</th>\n",
       "      <th>marathi</th>\n",
       "      <th>rating</th>\n",
       "      <th>english</th>\n",
       "    </tr>\n",
       "  </thead>\n",
       "  <tbody>\n",
       "    <tr>\n",
       "      <th>0</th>\n",
       "      <td>0</td>\n",
       "      <td>तो पळाला हसत हसत</td>\n",
       "      <td>1</td>\n",
       "      <td>He ran away laughing</td>\n",
       "    </tr>\n",
       "    <tr>\n",
       "      <th>1</th>\n",
       "      <td>1</td>\n",
       "      <td>मी पडलो मला लागलं</td>\n",
       "      <td>-1</td>\n",
       "      <td>I fell</td>\n",
       "    </tr>\n",
       "    <tr>\n",
       "      <th>2</th>\n",
       "      <td>2</td>\n",
       "      <td>मला माहित आहे</td>\n",
       "      <td>0</td>\n",
       "      <td>I know</td>\n",
       "    </tr>\n",
       "    <tr>\n",
       "      <th>3</th>\n",
       "      <td>3</td>\n",
       "      <td>मी हरलो</td>\n",
       "      <td>-1</td>\n",
       "      <td>I lost</td>\n",
       "    </tr>\n",
       "    <tr>\n",
       "      <th>4</th>\n",
       "      <td>4</td>\n",
       "      <td>मी काम करतोय</td>\n",
       "      <td>0</td>\n",
       "      <td>I am working</td>\n",
       "    </tr>\n",
       "  </tbody>\n",
       "</table>\n",
       "</div>"
      ],
      "text/plain": [
       "   Unnamed: 0            marathi  rating               english\n",
       "0           0   तो पळाला हसत हसत       1  He ran away laughing\n",
       "1           1  मी पडलो मला लागलं      -1                I fell\n",
       "2           2      मला माहित आहे       0                I know\n",
       "3           3            मी हरलो      -1                I lost\n",
       "4           4       मी काम करतोय       0          I am working"
      ]
     },
     "execution_count": 5,
     "metadata": {},
     "output_type": "execute_result"
    }
   ],
   "source": [
    "data = pd.read_csv(\"../data/marathi_data_translated.csv\")\n",
    "data.head()"
   ]
  },
  {
   "cell_type": "code",
   "execution_count": 6,
   "metadata": {},
   "outputs": [
    {
     "data": {
      "text/html": [
       "<div>\n",
       "<style scoped>\n",
       "    .dataframe tbody tr th:only-of-type {\n",
       "        vertical-align: middle;\n",
       "    }\n",
       "\n",
       "    .dataframe tbody tr th {\n",
       "        vertical-align: top;\n",
       "    }\n",
       "\n",
       "    .dataframe thead th {\n",
       "        text-align: right;\n",
       "    }\n",
       "</style>\n",
       "<table border=\"1\" class=\"dataframe\">\n",
       "  <thead>\n",
       "    <tr style=\"text-align: right;\">\n",
       "      <th></th>\n",
       "      <th>marathi</th>\n",
       "      <th>english</th>\n",
       "      <th>sentiments</th>\n",
       "    </tr>\n",
       "  </thead>\n",
       "  <tbody>\n",
       "    <tr>\n",
       "      <th>0</th>\n",
       "      <td>तो पळाला हसत हसत</td>\n",
       "      <td>He ran away laughing</td>\n",
       "      <td>1</td>\n",
       "    </tr>\n",
       "    <tr>\n",
       "      <th>1</th>\n",
       "      <td>मी पडलो मला लागलं</td>\n",
       "      <td>I fell</td>\n",
       "      <td>-1</td>\n",
       "    </tr>\n",
       "    <tr>\n",
       "      <th>2</th>\n",
       "      <td>मला माहित आहे</td>\n",
       "      <td>I know</td>\n",
       "      <td>0</td>\n",
       "    </tr>\n",
       "    <tr>\n",
       "      <th>3</th>\n",
       "      <td>मी हरलो</td>\n",
       "      <td>I lost</td>\n",
       "      <td>-1</td>\n",
       "    </tr>\n",
       "    <tr>\n",
       "      <th>4</th>\n",
       "      <td>मी काम करतोय</td>\n",
       "      <td>I am working</td>\n",
       "      <td>0</td>\n",
       "    </tr>\n",
       "  </tbody>\n",
       "</table>\n",
       "</div>"
      ],
      "text/plain": [
       "             marathi               english  sentiments\n",
       "0   तो पळाला हसत हसत  He ran away laughing           1\n",
       "1  मी पडलो मला लागलं                I fell          -1\n",
       "2      मला माहित आहे                I know           0\n",
       "3            मी हरलो                I lost          -1\n",
       "4       मी काम करतोय          I am working           0"
      ]
     },
     "execution_count": 6,
     "metadata": {},
     "output_type": "execute_result"
    }
   ],
   "source": [
    "data = data[[\"marathi\",\"english\",\"rating\"]]\n",
    "data.rename(columns = {'rating':'sentiments'}, inplace = True) \n",
    "data.head()"
   ]
  },
  {
   "cell_type": "code",
   "execution_count": 7,
   "metadata": {
    "colab": {
     "base_uri": "https://localhost:8080/",
     "height": 204
    },
    "id": "UEkL_38pJEub",
    "outputId": "281f20ea-2d2a-422f-dcf5-f0a17a4e58d1"
   },
   "outputs": [
    {
     "data": {
      "text/html": [
       "<div>\n",
       "<style scoped>\n",
       "    .dataframe tbody tr th:only-of-type {\n",
       "        vertical-align: middle;\n",
       "    }\n",
       "\n",
       "    .dataframe tbody tr th {\n",
       "        vertical-align: top;\n",
       "    }\n",
       "\n",
       "    .dataframe thead th {\n",
       "        text-align: right;\n",
       "    }\n",
       "</style>\n",
       "<table border=\"1\" class=\"dataframe\">\n",
       "  <thead>\n",
       "    <tr style=\"text-align: right;\">\n",
       "      <th></th>\n",
       "      <th>marathi</th>\n",
       "      <th>english</th>\n",
       "      <th>sentiments</th>\n",
       "    </tr>\n",
       "  </thead>\n",
       "  <tbody>\n",
       "    <tr>\n",
       "      <th>0</th>\n",
       "      <td>तो पळाला हसत हसत</td>\n",
       "      <td>he ran away laughing</td>\n",
       "      <td>1</td>\n",
       "    </tr>\n",
       "    <tr>\n",
       "      <th>1</th>\n",
       "      <td>मी पडलो मला लागलं</td>\n",
       "      <td>i fell</td>\n",
       "      <td>-1</td>\n",
       "    </tr>\n",
       "    <tr>\n",
       "      <th>2</th>\n",
       "      <td>मला माहित आहे</td>\n",
       "      <td>i know</td>\n",
       "      <td>0</td>\n",
       "    </tr>\n",
       "    <tr>\n",
       "      <th>3</th>\n",
       "      <td>मी हरलो</td>\n",
       "      <td>i lost</td>\n",
       "      <td>-1</td>\n",
       "    </tr>\n",
       "    <tr>\n",
       "      <th>4</th>\n",
       "      <td>मी काम करतोय</td>\n",
       "      <td>i am working</td>\n",
       "      <td>0</td>\n",
       "    </tr>\n",
       "  </tbody>\n",
       "</table>\n",
       "</div>"
      ],
      "text/plain": [
       "             marathi               english  sentiments\n",
       "0   तो पळाला हसत हसत  he ran away laughing           1\n",
       "1  मी पडलो मला लागलं                i fell          -1\n",
       "2      मला माहित आहे                i know           0\n",
       "3            मी हरलो                i lost          -1\n",
       "4       मी काम करतोय          i am working           0"
      ]
     },
     "execution_count": 7,
     "metadata": {},
     "output_type": "execute_result"
    }
   ],
   "source": [
    "data['english']=data['english'].str.lower()\n",
    "data['english']=data['english'].str.replace('\\W+',\" \")\n",
    "data.head()"
   ]
  },
  {
   "cell_type": "markdown",
   "metadata": {
    "id": "PQL-A1iPJHdV"
   },
   "source": [
    "## Removing Stopwords"
   ]
  },
  {
   "cell_type": "code",
   "execution_count": 8,
   "metadata": {
    "id": "KWef2WjVJGwT"
   },
   "outputs": [
    {
     "name": "stdout",
     "output_type": "stream",
     "text": [
      "             marathi               english  sentiments  removed_stopwords\n",
      "0   तो पळाला हसत हसत  he ran away laughing           1  ran away laughing\n",
      "1  मी पडलो मला लागलं                i fell          -1               fell\n",
      "2      मला माहित आहे                i know           0               know\n",
      "3            मी हरलो                i lost          -1               lost\n",
      "4       मी काम करतोय          i am working           0            working\n"
     ]
    }
   ],
   "source": [
    "removed_stop_words = []\n",
    "for i in data['english']:\n",
    "    removed_stop_words.append(' '.join([word for word in i.split() if word not in stop]))\n",
    "data['removed_stopwords'] = removed_stop_words\n",
    "\n",
    "print(data.head())"
   ]
  },
  {
   "cell_type": "markdown",
   "metadata": {
    "id": "1F4Up288PMdQ"
   },
   "source": [
    "# Training NLP models"
   ]
  },
  {
   "cell_type": "markdown",
   "metadata": {
    "id": "Q8Xbu4PlMGPD"
   },
   "source": [
    "### Creating Features for Training the NLP model"
   ]
  },
  {
   "cell_type": "code",
   "execution_count": 9,
   "metadata": {
    "id": "rVygpb9_MCYM"
   },
   "outputs": [],
   "source": [
    "x = data.iloc[:, 3].values # Sentences translated from marathi\n",
    "y = data.iloc[:, 2].values # Sentiment Classes (Sad (-1) Neutral (0) Happy (1))"
   ]
  },
  {
   "cell_type": "code",
   "execution_count": 10,
   "metadata": {
    "id": "GovBOwVGMM3t"
   },
   "outputs": [],
   "source": [
    "tfidfconverter = TfidfVectorizer(max_features=200, min_df=1, max_df=0.10)  \n",
    "x = tfidfconverter.fit_transform(data['removed_stopwords']).toarray()"
   ]
  },
  {
   "cell_type": "markdown",
   "metadata": {
    "id": "AzzxW3HfMR6Q"
   },
   "source": [
    "### Train Test Split"
   ]
  },
  {
   "cell_type": "code",
   "execution_count": 11,
   "metadata": {
    "id": "oA-02BScMT6C"
   },
   "outputs": [
    {
     "name": "stdout",
     "output_type": "stream",
     "text": [
      "(520, 200) (280, 200) (520,) (280,)\n"
     ]
    }
   ],
   "source": [
    "x_train, x_test, y_train, y_test = train_test_split(x, y, test_size=0.35, random_state=200)\n",
    "print(x_train.shape,x_test.shape,y_train.shape,y_test.shape)"
   ]
  },
  {
   "cell_type": "markdown",
   "metadata": {
    "id": "NTJPrgQLN6Z7"
   },
   "source": [
    "### Logistic Regression Model"
   ]
  },
  {
   "cell_type": "code",
   "execution_count": 12,
   "metadata": {
    "id": "Qlph9fwkM80g"
   },
   "outputs": [],
   "source": [
    "def LR(x_train, x_test, y_train, y_test):\n",
    "    reg = LogisticRegression()   \n",
    "    reg = reg.fit(x_train, y_train) \n",
    "    pickle.dump(reg,open('models/lr.pkl','wb'))\n",
    "    y_pred = reg.predict(x_test) \n",
    "    return y_pred"
   ]
  },
  {
   "cell_type": "markdown",
   "metadata": {
    "id": "MbP7WfM5N9i8"
   },
   "source": [
    "### Decision Tree Model"
   ]
  },
  {
   "cell_type": "code",
   "execution_count": 13,
   "metadata": {
    "id": "mZ2PCkNOM9BQ"
   },
   "outputs": [],
   "source": [
    "def DT(x_train, x_test, y_train, y_test):\n",
    "    tree = DecisionTreeClassifier()\n",
    "    tree = tree.fit(x_train, y_train)\n",
    "    pickle.dump(tree,open('models/dt.pkl','wb'))\n",
    "    y_pred = tree.predict(x_test)\n",
    "    return y_pred"
   ]
  },
  {
   "cell_type": "markdown",
   "metadata": {
    "id": "N3PZQUQaOAIV"
   },
   "source": [
    "### Gaussian Naive Bayes Model"
   ]
  },
  {
   "cell_type": "code",
   "execution_count": 14,
   "metadata": {
    "id": "ewu_bxA2M9Fq"
   },
   "outputs": [],
   "source": [
    "def GNB(x_train, x_test, y_train, y_test):\n",
    "    gnb = GaussianNB()\n",
    "    gnb = gnb.fit(x_train, y_train)\n",
    "    pickle.dump(gnb,open('models/gnb.pkl','wb'))\n",
    "    y_pred = gnb.predict(x_test)\n",
    "    return y_pred"
   ]
  },
  {
   "cell_type": "markdown",
   "metadata": {
    "id": "Ao6c03xZOCuG"
   },
   "source": [
    "### k- Nearest Neighbours Model"
   ]
  },
  {
   "cell_type": "code",
   "execution_count": 15,
   "metadata": {
    "id": "cH226eH6M9L_"
   },
   "outputs": [],
   "source": [
    "def KNN(x_train, x_test, y_train, y_test):\n",
    "    knn = KNeighborsClassifier(n_neighbors=10, metric='euclidean')\n",
    "    knn.fit(x_train, y_train)\n",
    "    pickle.dump(knn,open('models/knn.pkl','wb'))\n",
    "    y_pred = knn.predict(x_test)\n",
    "    return y_pred"
   ]
  },
  {
   "cell_type": "markdown",
   "metadata": {
    "id": "eWozVxc5OFpy"
   },
   "source": [
    "### Random Forest Classifier Model"
   ]
  },
  {
   "cell_type": "code",
   "execution_count": 16,
   "metadata": {
    "id": "pyDPzDEdMXQE"
   },
   "outputs": [],
   "source": [
    "def RFC(x_train, x_test, y_train, y_test):\n",
    "    rfc_classifier = RandomForestClassifier(n_estimators=200, random_state=0)  \n",
    "    rfc_classifier = rfc_classifier.fit(x_train, y_train)\n",
    "    pickle.dump(rfc_classifier,open('models/rfc.pkl','wb'))\n",
    "    y_pred = rfc_classifier.predict(x_test)\n",
    "    return y_pred"
   ]
  },
  {
   "cell_type": "markdown",
   "metadata": {
    "id": "Eb5E78u5OIff"
   },
   "source": [
    "### Support Vector Machine Model"
   ]
  },
  {
   "cell_type": "code",
   "execution_count": 17,
   "metadata": {
    "id": "BkOJwIFvM8-N"
   },
   "outputs": [],
   "source": [
    "def SVM(x_train, x_test, y_train, y_test):\n",
    "    svc_classifier = SVC(kernel='linear')\n",
    "    svc_classifier = svc_classifier.fit(x_train, y_train)\n",
    "    pickle.dump(svc_classifier,open('models/svm.pkl','wb'))\n",
    "    y_pred = svc_classifier.predict(x_test)\n",
    "    return y_pred"
   ]
  },
  {
   "cell_type": "markdown",
   "metadata": {
    "id": "qOuQWo9wPIIf"
   },
   "source": [
    "### Creating Models"
   ]
  },
  {
   "cell_type": "code",
   "execution_count": 18,
   "metadata": {},
   "outputs": [],
   "source": [
    "ml_classifiers = ['Logistic Regression Model','Decision Tree Model','Gaussian Naive Bayes Model','KNN Model','Random Forest Model','SVM Model']\n",
    "function_list = [LR,DT,GNB,KNN,RFC,SVM]\n",
    "tabulating = []"
   ]
  },
  {
   "cell_type": "code",
   "execution_count": 19,
   "metadata": {
    "id": "A0Y6X6qbMbl-"
   },
   "outputs": [
    {
     "name": "stdout",
     "output_type": "stream",
     "text": [
      "======================================================================================\n",
      "Creating Logistic Regression Model\n",
      "[[10 51  7]\n",
      " [ 1 96 13]\n",
      " [ 2 53 47]]\n",
      "              precision    recall  f1-score   support\n",
      "\n",
      "          -1       0.77      0.15      0.25        68\n",
      "           0       0.48      0.87      0.62       110\n",
      "           1       0.70      0.46      0.56       102\n",
      "\n",
      "   micro avg       0.55      0.55      0.55       280\n",
      "   macro avg       0.65      0.49      0.47       280\n",
      "weighted avg       0.63      0.55      0.51       280\n",
      "\n",
      "Logistic Regression Model Accuracy >>>> 54.64285714285714\n",
      "======================================================================================\n",
      "\n",
      "======================================================================================\n",
      "Creating Decision Tree Model\n",
      "[[19 44  5]\n",
      " [17 79 14]\n",
      " [ 4 49 49]]\n",
      "              precision    recall  f1-score   support\n",
      "\n",
      "          -1       0.47      0.28      0.35        68\n",
      "           0       0.46      0.72      0.56       110\n",
      "           1       0.72      0.48      0.58       102\n",
      "\n",
      "   micro avg       0.53      0.53      0.53       280\n",
      "   macro avg       0.55      0.49      0.50       280\n",
      "weighted avg       0.56      0.53      0.52       280\n",
      "\n",
      "Decision Tree Model Accuracy >>>> 52.5\n",
      "======================================================================================\n",
      "\n",
      "======================================================================================\n",
      "Creating Gaussian Naive Bayes Model\n",
      "[[49 12  7]\n",
      " [60 33 17]\n",
      " [42 13 47]]\n",
      "              precision    recall  f1-score   support\n",
      "\n",
      "          -1       0.32      0.72      0.45        68\n",
      "           0       0.57      0.30      0.39       110\n",
      "           1       0.66      0.46      0.54       102\n",
      "\n",
      "   micro avg       0.46      0.46      0.46       280\n",
      "   macro avg       0.52      0.49      0.46       280\n",
      "weighted avg       0.54      0.46      0.46       280\n",
      "\n",
      "Gaussian Naive Bayes Model Accuracy >>>> 46.07142857142857\n",
      "======================================================================================\n",
      "\n",
      "======================================================================================\n",
      "Creating KNN Model\n",
      "[[32 24 12]\n",
      " [41 59 10]\n",
      " [32 45 25]]\n",
      "              precision    recall  f1-score   support\n",
      "\n",
      "          -1       0.30      0.47      0.37        68\n",
      "           0       0.46      0.54      0.50       110\n",
      "           1       0.53      0.25      0.34       102\n",
      "\n",
      "   micro avg       0.41      0.41      0.41       280\n",
      "   macro avg       0.43      0.42      0.40       280\n",
      "weighted avg       0.45      0.41      0.41       280\n",
      "\n"
     ]
    },
    {
     "name": "stderr",
     "output_type": "stream",
     "text": [
      "c:\\users\\my1\\appdata\\local\\programs\\python\\python36\\lib\\site-packages\\sklearn\\linear_model\\logistic.py:433: FutureWarning: Default solver will be changed to 'lbfgs' in 0.22. Specify a solver to silence this warning.\n",
      "  FutureWarning)\n",
      "c:\\users\\my1\\appdata\\local\\programs\\python\\python36\\lib\\site-packages\\sklearn\\linear_model\\logistic.py:460: FutureWarning: Default multi_class will be changed to 'auto' in 0.22. Specify the multi_class option to silence this warning.\n",
      "  \"this warning.\", FutureWarning)\n"
     ]
    },
    {
     "name": "stdout",
     "output_type": "stream",
     "text": [
      "KNN Model Accuracy >>>> 41.42857142857143\n",
      "======================================================================================\n",
      "\n",
      "======================================================================================\n",
      "Creating Random Forest Model\n",
      "[[21 41  6]\n",
      " [10 83 17]\n",
      " [ 6 46 50]]\n",
      "              precision    recall  f1-score   support\n",
      "\n",
      "          -1       0.57      0.31      0.40        68\n",
      "           0       0.49      0.75      0.59       110\n",
      "           1       0.68      0.49      0.57       102\n",
      "\n",
      "   micro avg       0.55      0.55      0.55       280\n",
      "   macro avg       0.58      0.52      0.52       280\n",
      "weighted avg       0.58      0.55      0.54       280\n",
      "\n",
      "Random Forest Model Accuracy >>>> 55.00000000000001\n",
      "======================================================================================\n",
      "\n",
      "======================================================================================\n",
      "Creating SVM Model\n",
      "[[17 45  6]\n",
      " [ 3 92 15]\n",
      " [ 2 48 52]]\n",
      "              precision    recall  f1-score   support\n",
      "\n",
      "          -1       0.77      0.25      0.38        68\n",
      "           0       0.50      0.84      0.62       110\n",
      "           1       0.71      0.51      0.59       102\n",
      "\n",
      "   micro avg       0.57      0.57      0.57       280\n",
      "   macro avg       0.66      0.53      0.53       280\n",
      "weighted avg       0.64      0.57      0.55       280\n",
      "\n",
      "SVM Model Accuracy >>>> 57.49999999999999\n",
      "======================================================================================\n",
      "\n"
     ]
    }
   ],
   "source": [
    "for i in range(len(ml_classifiers)):\n",
    "    print(\"======================================================================================\")\n",
    "    print(f\"Creating {ml_classifiers[i]}\")\n",
    "    y_pred = function_list[i](x_train, x_test, y_train, y_test)\n",
    "    print(confusion_matrix(y_test,y_pred))  \n",
    "    print(classification_report(y_test,y_pred))  \n",
    "    acc = accuracy_score(y_test, y_pred)*100\n",
    "    tabulating.append([ml_classifiers[i],acc])\n",
    "    print(f\"{ml_classifiers[i]} Accuracy >>>> {acc}\")\n",
    "    print(\"======================================================================================\")\n",
    "    print(\"\")"
   ]
  },
  {
   "cell_type": "markdown",
   "metadata": {},
   "source": [
    "# Tabulating our final results"
   ]
  },
  {
   "cell_type": "code",
   "execution_count": 20,
   "metadata": {},
   "outputs": [],
   "source": [
    "from tabulate import tabulate"
   ]
  },
  {
   "cell_type": "code",
   "execution_count": 21,
   "metadata": {},
   "outputs": [
    {
     "name": "stdout",
     "output_type": "stream",
     "text": [
      "Models                        Accuracy\n",
      "--------------------------  ----------\n",
      "Logistic Regression Model      54.6429\n",
      "Decision Tree Model            52.5\n",
      "Gaussian Naive Bayes Model     46.0714\n",
      "KNN Model                      41.4286\n",
      "Random Forest Model            55\n",
      "SVM Model                      57.5\n"
     ]
    }
   ],
   "source": [
    "headers = [\"Models\", \"Accuracy\"]\n",
    "print(tabulate(tabulating,headers=headers))"
   ]
  },
  {
   "cell_type": "markdown",
   "metadata": {},
   "source": [
    "# Testing on the saved models\n"
   ]
  },
  {
   "cell_type": "code",
   "execution_count": 22,
   "metadata": {},
   "outputs": [
    {
     "name": "stdout",
     "output_type": "stream",
     "text": [
      "Enter a statement in marathi >>>> मी शर्यत जिंकली\n"
     ]
    },
    {
     "data": {
      "text/plain": [
       "array(['won race'], dtype='<U8')"
      ]
     },
     "execution_count": 22,
     "metadata": {},
     "output_type": "execute_result"
    }
   ],
   "source": [
    "from googletrans import Translator\n",
    "tr = Translator()\n",
    "inp = input(\"Enter a statement in marathi >>>> \")\n",
    "eng = tr.translate(inp).text\n",
    "eng = eng.lower().replace('\\W+',\" \")\n",
    "\n",
    "removed_stopword = []\n",
    "for word in eng.split(): \n",
    "    if word not in stop:\n",
    "        removed_stopword.append(word)\n",
    "\n",
    "eng = np.array([\" \".join(removed_stopword)])\n",
    "eng"
   ]
  },
  {
   "cell_type": "code",
   "execution_count": 23,
   "metadata": {},
   "outputs": [
    {
     "data": {
      "text/plain": [
       "array([[0., 0., 0., 0., 0., 0., 0., 0., 0., 0., 0., 0., 0., 0., 0., 0.,\n",
       "        0., 0., 0., 0., 0., 0., 0., 0., 0., 0., 0., 0., 0., 0., 0., 0.,\n",
       "        0., 0., 0., 0., 0., 0., 0., 0., 0., 0., 0., 0., 0., 0., 0., 0.,\n",
       "        0., 0., 0., 0., 0., 0., 0., 0., 0., 0., 0., 0., 0., 0., 0., 0.,\n",
       "        0., 0., 0., 0., 0., 0., 0., 0., 0., 0., 0., 0., 0., 0., 0., 0.,\n",
       "        0., 0., 0., 0., 0., 0., 0., 0., 0., 0., 0., 0., 0., 0., 0., 0.,\n",
       "        0., 0., 0., 0., 0., 0., 0., 0., 0., 0., 0., 0., 0., 0., 0., 0.,\n",
       "        0., 0., 0., 0., 0., 0., 0., 0., 0., 0., 0., 0., 0., 0., 0., 0.,\n",
       "        0., 0., 0., 0., 0., 0., 0., 0., 0., 0., 0., 0., 0., 0., 0., 0.,\n",
       "        0., 0., 0., 0., 0., 0., 0., 0., 0., 0., 0., 0., 0., 0., 0., 0.,\n",
       "        0., 0., 0., 0., 0., 0., 0., 0., 0., 0., 0., 0., 0., 0., 0., 0.,\n",
       "        0., 0., 0., 0., 0., 0., 0., 0., 0., 0., 0., 0., 0., 0., 1., 0.,\n",
       "        0., 0., 0., 0., 0., 0., 0., 0.]])"
      ]
     },
     "execution_count": 23,
     "metadata": {},
     "output_type": "execute_result"
    }
   ],
   "source": [
    "x = tfidfconverter.transform(eng).toarray()\n",
    "x"
   ]
  },
  {
   "cell_type": "code",
   "execution_count": 24,
   "metadata": {},
   "outputs": [
    {
     "name": "stdout",
     "output_type": "stream",
     "text": [
      "lr.pkl   [1]\n",
      "dt.pkl   [1]\n",
      "gnb.pkl   [-1]\n",
      "knn.pkl   [0]\n",
      "rfc.pkl   [1]\n",
      "svm.pkl   [1]\n"
     ]
    }
   ],
   "source": [
    "models = ['lr.pkl','dt.pkl','gnb.pkl','knn.pkl','rfc.pkl','svm.pkl']\n",
    "for i in models:\n",
    "    model=pickle.load(open('models/'+i,'rb'))\n",
    "    print(i, \" \" ,model.predict(x))"
   ]
  },
  {
   "cell_type": "markdown",
   "metadata": {},
   "source": [
    "# Saving the tfidf vector model for frontend"
   ]
  },
  {
   "cell_type": "code",
   "execution_count": 25,
   "metadata": {},
   "outputs": [],
   "source": [
    "pickle.dump(tfidfconverter,open('models/tfidf.pkl','wb'))"
   ]
  },
  {
   "cell_type": "markdown",
   "metadata": {},
   "source": [
    "# SVM seems to be the best choice after testing, Hence that will be used on the front end.\n"
   ]
  }
 ],
 "metadata": {
  "colab": {
   "name": "SentiMarathi_MarathiSentimentAnalyzer.ipynb",
   "provenance": []
  },
  "kernelspec": {
   "display_name": "Python 3",
   "language": "python",
   "name": "python3"
  },
  "language_info": {
   "codemirror_mode": {
    "name": "ipython",
    "version": 3
   },
   "file_extension": ".py",
   "mimetype": "text/x-python",
   "name": "python",
   "nbconvert_exporter": "python",
   "pygments_lexer": "ipython3",
   "version": "3.6.6"
  }
 },
 "nbformat": 4,
 "nbformat_minor": 1
}
